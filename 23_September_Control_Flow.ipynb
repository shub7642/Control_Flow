{
 "cells": [
  {
   "cell_type": "code",
   "execution_count": 1,
   "id": "81ed08d3",
   "metadata": {},
   "outputs": [
    {
     "name": "stdout",
     "output_type": "stream",
     "text": [
      "Enter the number : 2\n",
      "its a positive number\n"
     ]
    }
   ],
   "source": [
    "# 1. Write a Python program to check if a given number is positive or negative.\n",
    "n = int(input(\"Enter the number : \"))\n",
    "if n>0:\n",
    "    print(\"its a positive number\")\n",
    "else:\n",
    "    print(\"Its a negative number\")"
   ]
  },
  {
   "cell_type": "code",
   "execution_count": 4,
   "id": "7ebe24ac",
   "metadata": {},
   "outputs": [
    {
     "name": "stdout",
     "output_type": "stream",
     "text": [
      "Enter age : 18\n",
      "You are eligible for vote\n"
     ]
    }
   ],
   "source": [
    "# 2. Create a program that determines if a person is eligible to vote based on their age.\n",
    "\n",
    "m = int(input(\"Enter age : \"))\n",
    "\n",
    "if m >= 18:\n",
    "    print(\"You are eligible for vote\")\n",
    "else:\n",
    "    print(\"You are a minor\")"
   ]
  },
  {
   "cell_type": "code",
   "execution_count": 6,
   "id": "53bb85f8",
   "metadata": {},
   "outputs": [
    {
     "name": "stdout",
     "output_type": "stream",
     "text": [
      "Enter 1st number : 1\n",
      "Enter 2nd number : 2\n",
      "The greater number is  2\n"
     ]
    }
   ],
   "source": [
    "# 3. Develop a program to find the maximum of two numbers using if-else statements.\n",
    "\n",
    "o = int(input(\"Enter 1st number : \"))\n",
    "p = int(input(\"Enter 2nd number : \"))\n",
    "\n",
    "if o>p:\n",
    "    print(\"The greater number is \",o)\n",
    "else:\n",
    "    print(\"The greater number is \",p)"
   ]
  },
  {
   "cell_type": "code",
   "execution_count": 7,
   "id": "9f32aa93",
   "metadata": {},
   "outputs": [
    {
     "name": "stdout",
     "output_type": "stream",
     "text": [
      "Enter year : 2000\n",
      "2000 is a leap year\n"
     ]
    }
   ],
   "source": [
    "# 4. Write a Python script to classify a given year as a leap year or not.\n",
    "\n",
    "year = int(input(\"Enter year : \"))\n",
    "\n",
    "if (year % 400 == 0) and (year % 100 == 0):\n",
    "    print(\"{0} is a leap year\".format(year))\n",
    "else:\n",
    "    print(\"Its not a leap year\")"
   ]
  },
  {
   "cell_type": "code",
   "execution_count": 9,
   "id": "55930bf3",
   "metadata": {},
   "outputs": [
    {
     "name": "stdout",
     "output_type": "stream",
     "text": [
      "Enter wordi\n",
      "Its a vowel\n"
     ]
    }
   ],
   "source": [
    "# 5. Create a program that checks whether a character is a vowel or a consonant.\n",
    "\n",
    "t = input(\"Enter word\")\n",
    "t.split()\n",
    "\n",
    "if t==\"a\" or t==\"e\" or t==\"i\" or t==\"o\" or t==\"u\":\n",
    "    print(\"Its a vowel\")\n",
    "else:\n",
    "    print(\"Its a cosonant\")"
   ]
  },
  {
   "cell_type": "code",
   "execution_count": 3,
   "id": "67924337",
   "metadata": {},
   "outputs": [
    {
     "name": "stdout",
     "output_type": "stream",
     "text": [
      "Enter the number : 5\n",
      "its an odd number\n"
     ]
    }
   ],
   "source": [
    "# 6. Implement a program to determine whether a given number is even or odd.\n",
    "\n",
    "n = int(input(\"Enter the number : \"))\n",
    "\n",
    "if (n%2==0):\n",
    "    print(\"Its a even number\")\n",
    "else:\n",
    "    print(\"its an odd number\")"
   ]
  },
  {
   "cell_type": "code",
   "execution_count": 6,
   "id": "e4091c7c",
   "metadata": {},
   "outputs": [
    {
     "name": "stdout",
     "output_type": "stream",
     "text": [
      "Enter Number : 3\n",
      "Enter Number : 2\n",
      "Enter Number : 1\n",
      "The greatest number is :  3\n"
     ]
    }
   ],
   "source": [
    "# 8. Develop a program that determines the largest of three given numbers using if-else statements.\n",
    "\n",
    "a1=int(input(\"Enter Number : \"))\n",
    "b1=int(input(\"Enter Number : \"))\n",
    "c1=int(input(\"Enter Number : \"))\n",
    "\n",
    "if (a1>b1) and (a1>c1):\n",
    "    print(\"The greatest number is : \",a1)\n",
    "elif (b1>a1) and (b1>c1):\n",
    "    print(\"The greatest number is : \",b1)\n",
    "else:\n",
    "    print(\"The greatest number is : \",c1)"
   ]
  },
  {
   "cell_type": "code",
   "execution_count": 12,
   "id": "03c2f1dc",
   "metadata": {},
   "outputs": [
    {
     "name": "stdout",
     "output_type": "stream",
     "text": [
      "Enter the word : shubham\n",
      "its not a palindrome\n"
     ]
    }
   ],
   "source": [
    "# 9. Create a program that checks if a given string is a palindrome.\n",
    "\n",
    "p = input(\"Enter the word : \")\n",
    "q = p[::-1]\n",
    "if p==q:\n",
    "    print(\"its a palindrome\")\n",
    "else:\n",
    "    print(\"its not a palindrome\")"
   ]
  },
  {
   "cell_type": "code",
   "execution_count": 14,
   "id": "cc5d1c8b",
   "metadata": {},
   "outputs": [
    {
     "name": "stdout",
     "output_type": "stream",
     "text": [
      "Enter marks : 88\n",
      "You have A grade.\n"
     ]
    }
   ],
   "source": [
    "# 10. Write a Python program to calculate the grade based on a student's score.\n",
    "\n",
    "marks = int(input(\"Enter marks : \"))\n",
    "\n",
    "if marks >= 90:\n",
    "    print(\"You have A+ grade.\")\n",
    "elif marks >= 80:\n",
    "    print(\"You have A grade.\")\n",
    "elif marks >= 70:\n",
    "    print(\"You have B grade.\")\n",
    "elif marks >= 60:\n",
    "    print(\"You have C grade.\")\n",
    "else:\n",
    "    print(\"You have failed the exam.\")"
   ]
  },
  {
   "cell_type": "markdown",
   "id": "918d18d8",
   "metadata": {},
   "source": [
    "# Nested If-Else Statements:"
   ]
  },
  {
   "cell_type": "code",
   "execution_count": 15,
   "id": "f1ca8577",
   "metadata": {},
   "outputs": [
    {
     "name": "stdout",
     "output_type": "stream",
     "text": [
      "Enter Number : 2\n",
      "Enter Number : 3\n",
      "Enter Number : 4\n",
      "The greatest number is :  4\n"
     ]
    }
   ],
   "source": [
    "# 11. Write a program to find the largest among three numbers using nested if-else statements.\n",
    "\n",
    "a1=int(input(\"Enter Number : \"))\n",
    "b1=int(input(\"Enter Number : \"))\n",
    "c1=int(input(\"Enter Number : \"))\n",
    "\n",
    "if (a1>b1) and (a1>c1):\n",
    "    print(\"The greatest number is : \",a1)\n",
    "elif (b1>a1) and (b1>c1):\n",
    "    print(\"The greatest number is : \",b1)\n",
    "else:\n",
    "    print(\"The greatest number is : \",c1)"
   ]
  },
  {
   "cell_type": "code",
   "execution_count": 19,
   "id": "2b391b09",
   "metadata": {},
   "outputs": [
    {
     "name": "stdout",
     "output_type": "stream",
     "text": [
      "Enter angle : 2\n",
      "Enter angle : 3\n",
      "Enter angle : 4\n",
      "scalene\n"
     ]
    }
   ],
   "source": [
    "# 12. Implement a program to determine if a triangle is equilateral, isosceles, or scalene.\n",
    "\n",
    "side1=int(input(\"Enter angle : \"))\n",
    "side2=int(input(\"Enter angle : \"))\n",
    "side3=int(input(\"Enter angle : \"))\n",
    "\n",
    "if (side1 == side2) and (side2 == side3):\n",
    "    print(\"Eq traingle\")\n",
    "elif (side1 == side2) or (side1 == side3):\n",
    "    print(\"iso traingle\")\n",
    "else:\n",
    "    print(\"scalene\")"
   ]
  },
  {
   "cell_type": "code",
   "execution_count": 23,
   "id": "84d991c0",
   "metadata": {},
   "outputs": [
    {
     "name": "stdout",
     "output_type": "stream",
     "text": [
      "Enter year : 2000\n",
      "2000 is a leap year\n"
     ]
    }
   ],
   "source": [
    "# 13. Develop a program that checks if a year is a leap year and also if it is a century year.\n",
    "\n",
    "year = int(input(\"Enter year : \"))\n",
    "\n",
    "if (year % 400 == 0) and (year % 100 == 0):\n",
    "    print(\"{0} is a leap year\".format(year))\n",
    "else:\n",
    "    print(\"Its not a leap year\")"
   ]
  },
  {
   "cell_type": "code",
   "execution_count": 22,
   "id": "464ed7e4",
   "metadata": {},
   "outputs": [
    {
     "name": "stdout",
     "output_type": "stream",
     "text": [
      "Enter the number to check : 2\n",
      "Number is positive\n"
     ]
    }
   ],
   "source": [
    "# 14. Write a Python script to determine if a number is positive, negative, or zero.\n",
    "\n",
    "number = int(input(\"Enter the number to check : \"))\n",
    "\n",
    "if number < 0:\n",
    "    print(\"Number is negative\")\n",
    "elif number > 0:\n",
    "    print(\"Number is positive\")\n",
    "else:\n",
    "    print(\"Number is zero\")"
   ]
  },
  {
   "cell_type": "code",
   "execution_count": 24,
   "id": "4338b352",
   "metadata": {},
   "outputs": [
    {
     "name": "stdout",
     "output_type": "stream",
     "text": [
      "Enter your age : 17\n",
      "You are a teenager\n"
     ]
    }
   ],
   "source": [
    "# 15. Create a program to check if a person is a teenager (between 13 and 19 years old).\n",
    "\n",
    "age = int(input(\"Enter your age : \"))\n",
    "\n",
    "if (age>=13 and age<=19):\n",
    "    print(\"You are a teenager\")\n",
    "else:\n",
    "    print(\"Your are not a teenager\")"
   ]
  },
  {
   "cell_type": "code",
   "execution_count": 3,
   "id": "5936bc45",
   "metadata": {},
   "outputs": [
    {
     "name": "stdout",
     "output_type": "stream",
     "text": [
      "Enter the angle : 17\n",
      "It is an acute angle\n"
     ]
    }
   ],
   "source": [
    "# 16. Develop a program that determines the type of angle based on its measure (acute, obtuse, or right).\n",
    "\n",
    "angle = int(input(\"Enter the angle : \"))\n",
    "\n",
    "if (angle>0) and (angle<90):\n",
    "    print(\"It is an acute angle\")\n",
    "elif angle==90:\n",
    "    print(\"It is an right angle\")\n",
    "elif (angle>90) and (angle<180):\n",
    "    print(\"It is an obtuse angle\")\n",
    "else:\n",
    "    print(\"Invalid entry\")"
   ]
  },
  {
   "cell_type": "code",
   "execution_count": 4,
   "id": "2ff883c1",
   "metadata": {},
   "outputs": [
    {
     "name": "stdout",
     "output_type": "stream",
     "text": [
      "Equation: ax^2 + bx + c \n",
      "Enter a: 2\n",
      "Enter b: 3\n",
      "Enter c: 4\n",
      "The roots are imaginary. \n"
     ]
    }
   ],
   "source": [
    "# 17. Write a Python program to calculate the roots of a quadratic equation.\n",
    "\n",
    "print(\"Equation: ax^2 + bx + c \")\n",
    "a=int(input(\"Enter a: \"))\n",
    "b=int(input(\"Enter b: \"))\n",
    "c=int(input(\"Enter c: \"))\n",
    "d=b**2-4*a*c\n",
    "d1=d**0.5\n",
    "if(d<0):\n",
    "    print(\"The roots are imaginary. \")\n",
    "else:\n",
    "    r1=(-b+d1)/2*a\n",
    "    r2=(-b-d1)/2*a\n",
    "    print(\"The first root: \",round(r1,2))\n",
    "    print(\"The second root: \",round(r2,2))"
   ]
  },
  {
   "cell_type": "code",
   "execution_count": 6,
   "id": "5911f8f6",
   "metadata": {},
   "outputs": [
    {
     "name": "stdout",
     "output_type": "stream",
     "text": [
      "Enter number to know the day : 1\n",
      "Today is monday\n"
     ]
    }
   ],
   "source": [
    "# 18. Implement a program to determine the day of the week based on a user-provided number (1 for Monday, 2 for Tuesday, etc.)\n",
    "\n",
    "Day = int(input(\"Enter number to know the day : \"))\n",
    "\n",
    "if Day == 1:\n",
    "    print(\"Today is monday\")\n",
    "elif Day == 2:\n",
    "    print(\"Today is Tuesday\")\n",
    "elif Day == 3:\n",
    "    print(\"Today is wednesday\")\n",
    "elif Day == 4:\n",
    "    print(\"Today is thursday\")\n",
    "elif Day == 5:\n",
    "    print(\"Today is friday\")\n",
    "elif Day == 6:\n",
    "    print(\"Today is saturday\")\n",
    "elif Day == 7:\n",
    "    print(\"Today is sunday\")\n",
    "else:\n",
    "    print(\"Enter a valid entry\")"
   ]
  },
  {
   "cell_type": "code",
   "execution_count": 7,
   "id": "628677c9",
   "metadata": {},
   "outputs": [
    {
     "name": "stdout",
     "output_type": "stream",
     "text": [
      "Enter year : 2000\n",
      "2000 is a leap year\n"
     ]
    }
   ],
   "source": [
    "# 19. Create a program that determines if a year is a leap year and also if it is evenly divisible by 400.\n",
    "\n",
    "year = int(input(\"Enter year : \"))\n",
    "\n",
    "if (year % 400 == 0) and (year % 100 == 0):\n",
    "    print(\"{0} is a leap year\".format(year))\n",
    "else:\n",
    "    print(\"Its not a leap year\")"
   ]
  },
  {
   "cell_type": "code",
   "execution_count": 9,
   "id": "f23c89f6",
   "metadata": {},
   "outputs": [
    {
     "name": "stdout",
     "output_type": "stream",
     "text": [
      "Enter the number : 5\n",
      "Its a odd number\n"
     ]
    }
   ],
   "source": [
    "# 20. Develop a program that checks if a given number is prime or not using nested if-else statements.\n",
    "\n",
    "j = int(input(\"Enter the number : \"))\n",
    "\n",
    "if j%2==0:\n",
    "    print(\"Its an even number\")\n",
    "else:\n",
    "    print(\"Its a odd number\")"
   ]
  },
  {
   "cell_type": "code",
   "execution_count": 10,
   "id": "24637fd4",
   "metadata": {},
   "outputs": [
    {
     "name": "stdout",
     "output_type": "stream",
     "text": [
      "Enter marks : 77\n",
      "You have B grade.\n"
     ]
    }
   ],
   "source": [
    "# 21. Write a Python program to assign grades based on different ranges of scores using elif statements.\n",
    "\n",
    "marks = int(input(\"Enter marks : \"))\n",
    "\n",
    "if marks >= 90:\n",
    "    print(\"You have A+ grade.\")\n",
    "elif marks >= 80:\n",
    "    print(\"You have A grade.\")\n",
    "elif marks >= 70:\n",
    "    print(\"You have B grade.\")\n",
    "elif marks >= 60:\n",
    "    print(\"You have C grade.\")\n",
    "else:\n",
    "    print(\"You have failed the exam.\")"
   ]
  },
  {
   "cell_type": "code",
   "execution_count": 11,
   "id": "142fbc30",
   "metadata": {},
   "outputs": [
    {
     "name": "stdout",
     "output_type": "stream",
     "text": [
      "Enter the angle : 90\n",
      "It is an right angle traingle\n"
     ]
    }
   ],
   "source": [
    "# 22. Implement a program to determine the type of a triangle based on its angles.\n",
    "\n",
    "angle = int(input(\"Enter the angle : \"))\n",
    "\n",
    "if (angle>0) and (angle<90):\n",
    "    print(\"It is an acute angle traingle\")\n",
    "elif angle==90:\n",
    "    print(\"It is an right angle traingle\")\n",
    "elif (angle>90) and (angle<180):\n",
    "    print(\"It is an obtuse angle traingle\")\n",
    "else:\n",
    "    print(\"Invalid entry\")"
   ]
  },
  {
   "cell_type": "code",
   "execution_count": 17,
   "id": "19afa785",
   "metadata": {},
   "outputs": [
    {
     "name": "stdout",
     "output_type": "stream",
     "text": [
      "Enter weight65\n",
      "Enter height165\n",
      "1.6784205693296603\n",
      "You are underweight\n"
     ]
    }
   ],
   "source": [
    "# 23. Develop a program to categorize a given person's BMI into underweight, normal, overweight, or obese using elif statements.\n",
    "\n",
    "w = int(input(\"Enter weight\"))\n",
    "h = int(input(\"Enter height\"))\n",
    "bmi = (w/h**2)*703\n",
    "print(bmi)\n",
    "\n",
    "\n",
    "if bmi <= 18.5:\n",
    "    print(\"You are underweight\")\n",
    "elif (bmi >= 18.5) and (bmi <= 24.9):\n",
    "    print(\"You are having normal weight\")\n",
    "elif (bmi >= 25) and (bmi <= 29.9):\n",
    "    print(\"You are over weight\")\n",
    "elif bmi >= 30:\n",
    "    print(\"You are having obsity\")\n",
    "else:\n",
    "    print(\"Enter valid entry\")\n",
    "\n"
   ]
  },
  {
   "cell_type": "code",
   "execution_count": 18,
   "id": "41d9bf57",
   "metadata": {},
   "outputs": [
    {
     "name": "stdout",
     "output_type": "stream",
     "text": [
      "Enter number : 5\n",
      "Number is positive\n"
     ]
    }
   ],
   "source": [
    "# 24. Create a program that determines whether a given number is positive, negative, or zero using elif statements.\n",
    "\n",
    "number = int(input(\"Enter number : \"))\n",
    "if number < 0:\n",
    "    print(\"Number is negative\")\n",
    "elif number > 0:\n",
    "    print(\"Number is positive\")\n",
    "else:\n",
    "    print(\"Number is zero\")"
   ]
  },
  {
   "cell_type": "code",
   "execution_count": 22,
   "id": "55e4f19e",
   "metadata": {},
   "outputs": [
    {
     "name": "stdout",
     "output_type": "stream",
     "text": [
      "Enter word : S\n",
      "Its a upper case.\n"
     ]
    }
   ],
   "source": [
    "# 25. Write a Python script to determine the type of a character (uppercase, lowercase, or special) using elif statements.\n",
    "\n",
    "cha = input(\"Enter word : \")\n",
    "\n",
    "if cha.isupper():\n",
    "    print(\"Its a upper case.\")\n",
    "elif cha.islower():\n",
    "    print(\"Its a lower case.\")\n",
    "else:\n",
    "    print(\"Its a special character\")\n",
    "\n"
   ]
  },
  {
   "cell_type": "code",
   "execution_count": 31,
   "id": "03e8ca7f",
   "metadata": {},
   "outputs": [
    {
     "name": "stdout",
     "output_type": "stream",
     "text": [
      "Enter price : 2000\n",
      "Discounted price is 1900\n"
     ]
    }
   ],
   "source": [
    "# 26. Implement a program to calculate the discounted price based on different purchase amounts using elif statements.\n",
    "\n",
    "price = int(input(\"Enter price : \"))\n",
    "dis = price - 100\n",
    "\n",
    "if price <= 500:\n",
    "    print(\"Discounted price is\",dis)\n",
    "elif price <= 1000:\n",
    "    print(\"Discounted price is\",dis)\n",
    "elif price <= 2000:\n",
    "    print(\"Discounted price is\",dis)"
   ]
  },
  {
   "cell_type": "code",
   "execution_count": 32,
   "id": "db295f5d",
   "metadata": {},
   "outputs": [
    {
     "name": "stdout",
     "output_type": "stream",
     "text": [
      "Enter the slabs : 122\n",
      "Your bill is 500\n"
     ]
    }
   ],
   "source": [
    "# 27. Develop a program to calculate the electricity bill based on different consumption slabs using elif statements.\n",
    "\n",
    "cons = int(input(\"Enter the slabs : \"))\n",
    "\n",
    "if (cons >= 0) and (cons<= 100):\n",
    "    print(\"Your bill is 300\")\n",
    "elif (cons >= 100) and (cons<= 200):\n",
    "    print(\"Your bill is 500\")\n",
    "else:\n",
    "    print(\"Your bill is 1000\")\n",
    "\n",
    "\n"
   ]
  },
  {
   "cell_type": "code",
   "execution_count": 34,
   "id": "823d2eb3",
   "metadata": {},
   "outputs": [
    {
     "name": "stdout",
     "output_type": "stream",
     "text": [
      "Enter side 1 : 12\n",
      "Enter side 2 : 12\n",
      "Enter side 3 : 34\n",
      "Enter side 4 : 32\n",
      "Enter angle 1 : 90\n",
      "Enter angle 2 : 90\n",
      "Enter angle 3 : 90\n",
      "Enter angle 4 : 90\n",
      "Its an rectangle traingle\n"
     ]
    }
   ],
   "source": [
    "# 28. Create a program to determine the type of quadrilateral based on its angles and sides using elif statements.\n",
    "\n",
    "side1 = int(input(\"Enter side 1 : \"))\n",
    "side2 = int(input(\"Enter side 2 : \"))\n",
    "side3 = int(input(\"Enter side 3 : \"))\n",
    "side4 = int(input(\"Enter side 4 : \"))\n",
    "\n",
    "angle1 = int(input(\"Enter angle 1 : \"))\n",
    "angle2 = int(input(\"Enter angle 2 : \"))\n",
    "angle3 = int(input(\"Enter angle 3 : \"))\n",
    "angle4 = int(input(\"Enter angle 4 : \"))\n",
    "\n",
    "if (side1==side2==side3==side4) and (angle1==angle2==angle3==angle4):\n",
    "    print(\"Its an square traingle\")\n",
    "elif (side1==side2) or (side1==side3) or (side1==side4) and (angle1==angle2==angle3==angle4):\n",
    "    print(\"Its an rectangle traingle\")"
   ]
  },
  {
   "cell_type": "code",
   "execution_count": 36,
   "id": "026e7cd9",
   "metadata": {},
   "outputs": [
    {
     "name": "stdout",
     "output_type": "stream",
     "text": [
      "Enter month : Jan\n",
      "Winter\n"
     ]
    }
   ],
   "source": [
    "# 29. Write a Python script to determine the season based on a user-provided month using elif statements.\n",
    "\n",
    "sea = input(\"Enter month : \")\n",
    "\n",
    "if sea in (\"Jan\", \"Feb\", \"Mar\"):\n",
    "    print(\"Winter\")\n",
    "elif sea in(\"Apr\",\"May\",\"Jun\",\"jul\",\"Aug\"):\n",
    "    print(\"Rain\")\n",
    "elif sea in (\"Sep\",\"Oct\",\"Nov\",\"Dec\"):\n",
    "    print(\"Summer\")\n",
    "else:\n",
    "    print(\"Enter valid code\")"
   ]
  },
  {
   "cell_type": "code",
   "execution_count": 37,
   "id": "77f7e8fb",
   "metadata": {},
   "outputs": [
    {
     "name": "stdout",
     "output_type": "stream",
     "text": [
      "Number of days is 31\n"
     ]
    }
   ],
   "source": [
    "# 30. Implement a program to determine the type of a year (leap or common) and month (30 or 31 days) using elif statements.\n",
    "\n",
    "month = 12\n",
    "year=2012\n",
    "    \n",
    "if((month==2) and ((year%4==0)  or ((year%100==0) and (year%400==0)))) :\n",
    "    print(\"Number of days is 29\");\n",
    "\n",
    "elif(month==2) :\n",
    "    print(\"Number of days is 28\");\n",
    "\n",
    "elif(month==1 or month==3 or month==5 or month==7 or month==8 or month==10 or month==12) :\n",
    "    print(\"Number of days is 31\");\n",
    "\n",
    "else :\n",
    "    print(\"Number of days is 30\");"
   ]
  },
  {
   "cell_type": "code",
   "execution_count": null,
   "id": "a4811b9b",
   "metadata": {},
   "outputs": [],
   "source": []
  }
 ],
 "metadata": {
  "kernelspec": {
   "display_name": "Python 3",
   "language": "python",
   "name": "python3"
  },
  "language_info": {
   "codemirror_mode": {
    "name": "ipython",
    "version": 3
   },
   "file_extension": ".py",
   "mimetype": "text/x-python",
   "name": "python",
   "nbconvert_exporter": "python",
   "pygments_lexer": "ipython3",
   "version": "3.8.8"
  }
 },
 "nbformat": 4,
 "nbformat_minor": 5
}
